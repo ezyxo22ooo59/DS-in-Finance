{
 "cells": [
  {
   "cell_type": "code",
   "execution_count": 9,
   "metadata": {
    "collapsed": true
   },
   "outputs": [
    {
     "data": {
      "text/plain": "<turtle._Screen at 0x7fc3494530d0>"
     },
     "execution_count": 9,
     "metadata": {},
     "output_type": "execute_result"
    }
   ],
   "source": [
    "import turtle as t\n",
    "import random, sys\n",
    "BASEPYONLY = True\n",
    "t.Screen()"
   ]
  },
  {
   "cell_type": "code",
   "execution_count": 19,
   "outputs": [
    {
     "data": {
      "text/plain": "(None, None, 7)"
     },
     "execution_count": 19,
     "metadata": {},
     "output_type": "execute_result"
    }
   ],
   "source": [
    "# draw axis -- can wrap this into a function\n",
    "t.color('black')\n",
    "t.penup(); t.goto(-400, 0); t.pendown(), t.forward(800), t.stamp()\n",
    "t.penup(); t.seth(90); t.goto(0, -400); t.pendown(), t.forward(800), t.stamp()"
   ],
   "metadata": {
    "collapsed": false,
    "pycharm": {
     "name": "#%%\n"
    }
   }
  },
  {
   "cell_type": "code",
   "execution_count": 20,
   "outputs": [],
   "source": [
    "# common turtle attributes\n",
    "t.resizemode('user')\n",
    "t.turtlesize(0.75,0.75,1)\n",
    "t.shape('circle')"
   ],
   "metadata": {
    "collapsed": false,
    "pycharm": {
     "name": "#%%\n"
    }
   }
  },
  {
   "cell_type": "code",
   "execution_count": 27,
   "outputs": [],
   "source": [
    "# common variables\n",
    "nobs = 10\n",
    "scale = 400"
   ],
   "metadata": {
    "collapsed": false,
    "pycharm": {
     "name": "#%%\n"
    }
   }
  },
  {
   "cell_type": "code",
   "execution_count": 26,
   "outputs": [
    {
     "data": {
      "text/plain": "11"
     },
     "execution_count": 26,
     "metadata": {},
     "output_type": "execute_result"
    }
   ],
   "source": [
    "# without using list for Q1\n",
    "t.color('blue','green') #pen color, fill color\n",
    "for _ in range(nobs):\n",
    "    t.penup(); t.goto( random.uniform(0.01, 1)*scale, random.uniform(0.01, 1)*scale );\n",
    "t.stamp()"
   ],
   "metadata": {
    "collapsed": false,
    "pycharm": {
     "name": "#%%\n"
    }
   }
  },
  {
   "cell_type": "code",
   "execution_count": null,
   "outputs": [],
   "source": [],
   "metadata": {
    "collapsed": false,
    "pycharm": {
     "name": "#%%\n"
    }
   }
  },
  {
   "cell_type": "code",
   "execution_count": 28,
   "outputs": [],
   "source": [
    "# use list for Q2\n",
    "x = [ - random.uniform(0.01, 1)*scale for _ in range(nobs)]\n",
    "y = [ random.uniform(0.01, 1)*scale for _ in range(nobs)]\n",
    "t.color('blue','') #pen color, fill color\n",
    "for _ in range(nobs):\n",
    "    t.penup(); t.goto(x[_], y[_]); t.stamp()"
   ],
   "metadata": {
    "collapsed": false,
    "pycharm": {
     "name": "#%%\n"
    }
   }
  },
  {
   "cell_type": "markdown",
   "source": [],
   "metadata": {
    "collapsed": false
   }
  },
  {
   "cell_type": "code",
   "execution_count": 15,
   "outputs": [
    {
     "ename": "SystemExit",
     "evalue": "0",
     "output_type": "error",
     "traceback": [
      "An exception has occurred, use %tb to see the full traceback.\n",
      "\u001B[0;31mSystemExit\u001B[0m\u001B[0;31m:\u001B[0m 0\n"
     ]
    }
   ],
   "source": [
    "# use numpy for Q3 and Q4\n",
    "if BASEPYONLY: sys.exit(0)\n",
    "import numpy as np\n",
    "Q3 = - np.random.default_rng().uniform(0.01, 1, size = (nobs,2))*scale\n",
    "Q4 = np.random.default_rng().uniform(0.01, 1, size = (nobs,2)).dot([[1,0],[0,-1]])*scale\n",
    "for _ in range(nobs):\n",
    "    t.color('red','') #pen color, fill color\n",
    "t.penup(); t.goto(Q3[_,0], Q3[_,1]); t.stamp()\n",
    "t.color('red','orange') #pen color, fill color\n",
    "t.penup(); t.goto(Q4[_,0], Q4[_,1]); t.stamp()"
   ],
   "metadata": {
    "collapsed": false,
    "pycharm": {
     "name": "#%%\n"
    }
   }
  },
  {
   "cell_type": "code",
   "execution_count": 29,
   "outputs": [],
   "source": [
    "t.done() # Must be the last statement in a turtle graphics program"
   ],
   "metadata": {
    "collapsed": false,
    "pycharm": {
     "name": "#%%\n"
    }
   }
  },
  {
   "cell_type": "code",
   "execution_count": null,
   "outputs": [],
   "source": [],
   "metadata": {
    "collapsed": false,
    "pycharm": {
     "name": "#%%\n"
    }
   }
  }
 ],
 "metadata": {
  "kernelspec": {
   "display_name": "Python 3",
   "language": "python",
   "name": "python3"
  },
  "language_info": {
   "codemirror_mode": {
    "name": "ipython",
    "version": 2
   },
   "file_extension": ".py",
   "mimetype": "text/x-python",
   "name": "python",
   "nbconvert_exporter": "python",
   "pygments_lexer": "ipython2",
   "version": "2.7.6"
  }
 },
 "nbformat": 4,
 "nbformat_minor": 0
}