{
 "cells": [
  {
   "cell_type": "code",
   "execution_count": 10,
   "metadata": {},
   "outputs": [
    {
     "data": {
      "text/plain": "       Draw Date    Winning Numbers  Bonus #  Extra #\n0     01/26/2022  04 09 15 42 48 58        5      NaN\n1     01/22/2022  12 15 19 24 34 57       20      NaN\n2     01/19/2022  06 07 08 10 37 46       13      NaN\n3     01/15/2022  14 16 46 47 53 55       39      NaN\n4     01/12/2022  08 18 27 29 37 43       59      NaN\n...          ...                ...      ...      ...\n2121  09/26/2001  15 19 32 38 47 50       14      NaN\n2122  09/22/2001  21 25 39 50 54 59       53      NaN\n2123  09/19/2001  03 08 29 30 31 49       52      NaN\n2124  09/15/2001  01 15 24 31 34 44       57      NaN\n2125  09/12/2001  08 13 26 35 45 51       39      NaN\n\n[2126 rows x 4 columns]",
      "text/html": "<div>\n<style scoped>\n    .dataframe tbody tr th:only-of-type {\n        vertical-align: middle;\n    }\n\n    .dataframe tbody tr th {\n        vertical-align: top;\n    }\n\n    .dataframe thead th {\n        text-align: right;\n    }\n</style>\n<table border=\"1\" class=\"dataframe\">\n  <thead>\n    <tr style=\"text-align: right;\">\n      <th></th>\n      <th>Draw Date</th>\n      <th>Winning Numbers</th>\n      <th>Bonus #</th>\n      <th>Extra #</th>\n    </tr>\n  </thead>\n  <tbody>\n    <tr>\n      <th>0</th>\n      <td>01/26/2022</td>\n      <td>04 09 15 42 48 58</td>\n      <td>5</td>\n      <td>NaN</td>\n    </tr>\n    <tr>\n      <th>1</th>\n      <td>01/22/2022</td>\n      <td>12 15 19 24 34 57</td>\n      <td>20</td>\n      <td>NaN</td>\n    </tr>\n    <tr>\n      <th>2</th>\n      <td>01/19/2022</td>\n      <td>06 07 08 10 37 46</td>\n      <td>13</td>\n      <td>NaN</td>\n    </tr>\n    <tr>\n      <th>3</th>\n      <td>01/15/2022</td>\n      <td>14 16 46 47 53 55</td>\n      <td>39</td>\n      <td>NaN</td>\n    </tr>\n    <tr>\n      <th>4</th>\n      <td>01/12/2022</td>\n      <td>08 18 27 29 37 43</td>\n      <td>59</td>\n      <td>NaN</td>\n    </tr>\n    <tr>\n      <th>...</th>\n      <td>...</td>\n      <td>...</td>\n      <td>...</td>\n      <td>...</td>\n    </tr>\n    <tr>\n      <th>2121</th>\n      <td>09/26/2001</td>\n      <td>15 19 32 38 47 50</td>\n      <td>14</td>\n      <td>NaN</td>\n    </tr>\n    <tr>\n      <th>2122</th>\n      <td>09/22/2001</td>\n      <td>21 25 39 50 54 59</td>\n      <td>53</td>\n      <td>NaN</td>\n    </tr>\n    <tr>\n      <th>2123</th>\n      <td>09/19/2001</td>\n      <td>03 08 29 30 31 49</td>\n      <td>52</td>\n      <td>NaN</td>\n    </tr>\n    <tr>\n      <th>2124</th>\n      <td>09/15/2001</td>\n      <td>01 15 24 31 34 44</td>\n      <td>57</td>\n      <td>NaN</td>\n    </tr>\n    <tr>\n      <th>2125</th>\n      <td>09/12/2001</td>\n      <td>08 13 26 35 45 51</td>\n      <td>39</td>\n      <td>NaN</td>\n    </tr>\n  </tbody>\n</table>\n<p>2126 rows × 4 columns</p>\n</div>"
     },
     "execution_count": 10,
     "metadata": {},
     "output_type": "execute_result"
    }
   ],
   "source": [
    "# Read the csv file\n",
    "import pandas as pd\n",
    "df = pd.read_csv('Lottery_NY_Lotto_Winning_Numbers.csv')\n",
    "df"
   ]
  },
  {
   "cell_type": "code",
   "execution_count": 11,
   "metadata": {
    "pycharm": {
     "name": "#%%\n"
    }
   },
   "outputs": [
    {
     "data": {
      "text/plain": "[28, 27, 21, 12, 24, 15, 12, 10, 10, 11, 71]"
     },
     "execution_count": 11,
     "metadata": {},
     "output_type": "execute_result"
    }
   ],
   "source": [
    "# Calculate the raw distribution of the gap for a specific number\n",
    "chosenNumber = 2\n",
    "def distributeGap(num):\n",
    "    gap = [0, 0, 0, 0, 0, 0, 0, 0, 0, 0, 0]\n",
    "    count = 0\n",
    "    first = False\n",
    "    for i, row in df.iterrows():\n",
    "        numbers = row['Winning Numbers'].split()\n",
    "        numbers = [ele.lstrip('0') for ele in numbers]\n",
    "        #print(numbers)\n",
    "        number2 = str(row['Bonus #'])\n",
    "        #print(number2)\n",
    "        if first == False:\n",
    "            if num in numbers or number2 == num:\n",
    "                first = True\n",
    "                #print(count)\n",
    "        else:\n",
    "            if num in numbers or number2 == num:\n",
    "                #print(count)\n",
    "                if count >= 10:\n",
    "                    gap[10] += 1\n",
    "                else:\n",
    "                    gap[count] += 1\n",
    "                count = 0\n",
    "            else:\n",
    "                count += 1\n",
    "    return gap\n",
    "\n",
    "result = distributeGap(str(chosenNumber))\n",
    "result"
   ]
  },
  {
   "cell_type": "code",
   "execution_count": 12,
   "metadata": {
    "pycharm": {
     "name": "#%%\n"
    }
   },
   "outputs": [
    {
     "name": "stdout",
     "output_type": "stream",
     "text": [
      "number = 2\n",
      "Gap\t\tcount\t\tpercent\n",
      "0\t\t28\t\t0.1162\n",
      "1\t\t27\t\t0.112\n",
      "2\t\t21\t\t0.0871\n",
      "3\t\t12\t\t0.0498\n",
      "4\t\t24\t\t0.0996\n",
      "5\t\t15\t\t0.0622\n",
      "6\t\t12\t\t0.0498\n",
      "7\t\t10\t\t0.0415\n",
      "8\t\t10\t\t0.0415\n",
      "9\t\t11\t\t0.0456\n",
      "≥10\t\t71\t\t0.2946\n"
     ]
    }
   ],
   "source": [
    "# Calculate the percentage and print the result\n",
    "print('number = 2')\n",
    "print('Gap\\t\\tcount\\t\\tpercent')\n",
    "count = 0\n",
    "for i in result:\n",
    "    if count == 10:\n",
    "        print('≥' + str(count) + '\\t\\t' + str(i) + '\\t\\t' + str(round(i/sum(result), 4)))\n",
    "    else:\n",
    "        print(str(count) + '\\t\\t' + str(i) + '\\t\\t' + str(round(i/sum(result), 4)))\n",
    "    count += 1"
   ]
  },
  {
   "cell_type": "code",
   "execution_count": 12,
   "metadata": {},
   "outputs": [],
   "source": []
  }
 ],
 "metadata": {
  "kernelspec": {
   "display_name": "Python 3",
   "language": "python",
   "name": "python3"
  },
  "language_info": {
   "codemirror_mode": {
    "name": "ipython",
    "version": 3
   },
   "file_extension": ".py",
   "mimetype": "text/x-python",
   "name": "python",
   "nbconvert_exporter": "python",
   "pygments_lexer": "ipython3",
   "version": "3.8.8"
  }
 },
 "nbformat": 4,
 "nbformat_minor": 1
}