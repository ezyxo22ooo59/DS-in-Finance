{
 "cells": [
  {
   "cell_type": "code",
   "execution_count": 1,
   "metadata": {
    "collapsed": true
   },
   "outputs": [
    {
     "data": {
      "text/plain": "     MARSTAT  EDUCATION  NUMHH  INCOME     FACE\n0          1         16      3   43000    20000\n1          1          9      3   12000   130000\n2          1         16      5  120000  1500000\n3          1         17      4   40000    50000\n4          1         15      2   25000        0\n..       ...        ...    ...     ...      ...\n495        1         16      4   66000   200000\n496        1         12      3   80000   530000\n497        0          4      1    5600        0\n498        2         12      4   20000        0\n499        0         12      1   38000    10000\n\n[500 rows x 5 columns]",
      "text/html": "<div>\n<style scoped>\n    .dataframe tbody tr th:only-of-type {\n        vertical-align: middle;\n    }\n\n    .dataframe tbody tr th {\n        vertical-align: top;\n    }\n\n    .dataframe thead th {\n        text-align: right;\n    }\n</style>\n<table border=\"1\" class=\"dataframe\">\n  <thead>\n    <tr style=\"text-align: right;\">\n      <th></th>\n      <th>MARSTAT</th>\n      <th>EDUCATION</th>\n      <th>NUMHH</th>\n      <th>INCOME</th>\n      <th>FACE</th>\n    </tr>\n  </thead>\n  <tbody>\n    <tr>\n      <th>0</th>\n      <td>1</td>\n      <td>16</td>\n      <td>3</td>\n      <td>43000</td>\n      <td>20000</td>\n    </tr>\n    <tr>\n      <th>1</th>\n      <td>1</td>\n      <td>9</td>\n      <td>3</td>\n      <td>12000</td>\n      <td>130000</td>\n    </tr>\n    <tr>\n      <th>2</th>\n      <td>1</td>\n      <td>16</td>\n      <td>5</td>\n      <td>120000</td>\n      <td>1500000</td>\n    </tr>\n    <tr>\n      <th>3</th>\n      <td>1</td>\n      <td>17</td>\n      <td>4</td>\n      <td>40000</td>\n      <td>50000</td>\n    </tr>\n    <tr>\n      <th>4</th>\n      <td>1</td>\n      <td>15</td>\n      <td>2</td>\n      <td>25000</td>\n      <td>0</td>\n    </tr>\n    <tr>\n      <th>...</th>\n      <td>...</td>\n      <td>...</td>\n      <td>...</td>\n      <td>...</td>\n      <td>...</td>\n    </tr>\n    <tr>\n      <th>495</th>\n      <td>1</td>\n      <td>16</td>\n      <td>4</td>\n      <td>66000</td>\n      <td>200000</td>\n    </tr>\n    <tr>\n      <th>496</th>\n      <td>1</td>\n      <td>12</td>\n      <td>3</td>\n      <td>80000</td>\n      <td>530000</td>\n    </tr>\n    <tr>\n      <th>497</th>\n      <td>0</td>\n      <td>4</td>\n      <td>1</td>\n      <td>5600</td>\n      <td>0</td>\n    </tr>\n    <tr>\n      <th>498</th>\n      <td>2</td>\n      <td>12</td>\n      <td>4</td>\n      <td>20000</td>\n      <td>0</td>\n    </tr>\n    <tr>\n      <th>499</th>\n      <td>0</td>\n      <td>12</td>\n      <td>1</td>\n      <td>38000</td>\n      <td>10000</td>\n    </tr>\n  </tbody>\n</table>\n<p>500 rows × 5 columns</p>\n</div>"
     },
     "execution_count": 1,
     "metadata": {},
     "output_type": "execute_result"
    }
   ],
   "source": [
    "import pandas as pd\n",
    "df = pd.read_csv('TermLifeData.csv')\n",
    "df"
   ]
  },
  {
   "cell_type": "code",
   "execution_count": 2,
   "metadata": {
    "pycharm": {
     "name": "#%%\n"
    }
   },
   "outputs": [
    {
     "data": {
      "text/plain": "     MARSTAT  EDUCATION  NUMHH  INCOME     FACE\n1          1          9      3   12000   130000\n2          1         16      5  120000  1500000\n3          1         17      4   40000    50000\n5          2         11      4   28000   220000\n7          1         16      3  100000   600000\n..       ...        ...    ...     ...      ...\n479        0         16      3  102000   400000\n486        0         17      1   60000  1000000\n491        0         17      1  244000   600000\n495        1         16      4   66000   200000\n496        1         12      3   80000   530000\n\n[213 rows x 5 columns]",
      "text/html": "<div>\n<style scoped>\n    .dataframe tbody tr th:only-of-type {\n        vertical-align: middle;\n    }\n\n    .dataframe tbody tr th {\n        vertical-align: top;\n    }\n\n    .dataframe thead th {\n        text-align: right;\n    }\n</style>\n<table border=\"1\" class=\"dataframe\">\n  <thead>\n    <tr style=\"text-align: right;\">\n      <th></th>\n      <th>MARSTAT</th>\n      <th>EDUCATION</th>\n      <th>NUMHH</th>\n      <th>INCOME</th>\n      <th>FACE</th>\n    </tr>\n  </thead>\n  <tbody>\n    <tr>\n      <th>1</th>\n      <td>1</td>\n      <td>9</td>\n      <td>3</td>\n      <td>12000</td>\n      <td>130000</td>\n    </tr>\n    <tr>\n      <th>2</th>\n      <td>1</td>\n      <td>16</td>\n      <td>5</td>\n      <td>120000</td>\n      <td>1500000</td>\n    </tr>\n    <tr>\n      <th>3</th>\n      <td>1</td>\n      <td>17</td>\n      <td>4</td>\n      <td>40000</td>\n      <td>50000</td>\n    </tr>\n    <tr>\n      <th>5</th>\n      <td>2</td>\n      <td>11</td>\n      <td>4</td>\n      <td>28000</td>\n      <td>220000</td>\n    </tr>\n    <tr>\n      <th>7</th>\n      <td>1</td>\n      <td>16</td>\n      <td>3</td>\n      <td>100000</td>\n      <td>600000</td>\n    </tr>\n    <tr>\n      <th>...</th>\n      <td>...</td>\n      <td>...</td>\n      <td>...</td>\n      <td>...</td>\n      <td>...</td>\n    </tr>\n    <tr>\n      <th>479</th>\n      <td>0</td>\n      <td>16</td>\n      <td>3</td>\n      <td>102000</td>\n      <td>400000</td>\n    </tr>\n    <tr>\n      <th>486</th>\n      <td>0</td>\n      <td>17</td>\n      <td>1</td>\n      <td>60000</td>\n      <td>1000000</td>\n    </tr>\n    <tr>\n      <th>491</th>\n      <td>0</td>\n      <td>17</td>\n      <td>1</td>\n      <td>244000</td>\n      <td>600000</td>\n    </tr>\n    <tr>\n      <th>495</th>\n      <td>1</td>\n      <td>16</td>\n      <td>4</td>\n      <td>66000</td>\n      <td>200000</td>\n    </tr>\n    <tr>\n      <th>496</th>\n      <td>1</td>\n      <td>12</td>\n      <td>3</td>\n      <td>80000</td>\n      <td>530000</td>\n    </tr>\n  </tbody>\n</table>\n<p>213 rows × 5 columns</p>\n</div>"
     },
     "execution_count": 2,
     "metadata": {},
     "output_type": "execute_result"
    }
   ],
   "source": [
    "df_filtered = df[df['FACE'] >= 50000]\n",
    "df_filtered"
   ]
  },
  {
   "cell_type": "code",
   "execution_count": 3,
   "metadata": {
    "pycharm": {
     "name": "#%%\n"
    }
   },
   "outputs": [
    {
     "name": "stderr",
     "output_type": "stream",
     "text": [
      "<ipython-input-3-f72d27b7d16b>:8: SettingWithCopyWarning: \n",
      "A value is trying to be set on a copy of a slice from a DataFrame.\n",
      "Try using .loc[row_indexer,col_indexer] = value instead\n",
      "\n",
      "See the caveats in the documentation: https://pandas.pydata.org/pandas-docs/stable/user_guide/indexing.html#returning-a-view-versus-a-copy\n",
      "  df_filtered['FACEbc'] = pt.fit_transform(df_filtered[['FACE']])\n"
     ]
    },
    {
     "data": {
      "text/plain": "<AxesSubplot:>"
     },
     "execution_count": 3,
     "metadata": {},
     "output_type": "execute_result"
    },
    {
     "data": {
      "text/plain": "<Figure size 432x288 with 2 Axes>",
      "image/png": "[encoded data removed]"
     },
     "metadata": {},
     "output_type": "display_data"
    }
   ],
   "source": [
    "# [a]\n",
    "import matplotlib.pyplot as plt\n",
    "from sklearn.preprocessing import PowerTransformer\n",
    "#df['FACE'].plot(kind='hist')\n",
    "\n",
    "pt = PowerTransformer(copy=True, method='box-cox', standardize = False)\n",
    "#afterTransFace = pt.fit_transform(df[['FACE']])\n",
    "df_filtered['FACEbc'] = pt.fit_transform(df_filtered[['FACE']])\n",
    "#df['transFACE'].plot(kind='hist')\n",
    "\n",
    "fig, axes = plt.subplots(1, 2)\n",
    "df_filtered['FACE'].hist(ax=axes[0])\n",
    "df_filtered['FACEbc'].hist(ax=axes[1])"
   ]
  },
  {
   "cell_type": "code",
   "execution_count": null,
   "outputs": [],
   "source": [],
   "metadata": {
    "collapsed": false,
    "pycharm": {
     "name": "#%%\n"
    }
   }
  },
  {
   "cell_type": "code",
   "execution_count": 5,
   "outputs": [
    {
     "data": {
      "text/plain": "    MARSTAT  EDUCATION  NUMHH     INCOME    FACEbc  MAR0  MAR2\n1         1          9      3   9.392662  4.489410     0     0\n2         1         16      5  11.695247  4.667959     0     0\n3         1         17      4  10.596635  4.391879     0     0\n5         2         11      4  10.239960  4.535591     0     1\n7         1         16      3  11.512925  4.611143     0     0\n10        1         17      2  11.626254  4.464478     0     0\n11        1         16      4   9.615805  4.695352     0     0\n13        0         14      1  10.373491  4.546091     1     0\n16        1         12      2  10.126631  4.391879     0     0\n18        2         12      6  10.596635  4.454087     0     1\n21        2         17      4  11.695247  4.683733     0     1\n22        0         13      3   9.472705  4.391879     1     0\n25        1         17      2  12.206073  4.667959     0     0\n26        0         14      1  10.819778  4.502462     1     0\n29        1          7      4  10.714418  4.464478     0     0",
      "text/html": "<div>\n<style scoped>\n    .dataframe tbody tr th:only-of-type {\n        vertical-align: middle;\n    }\n\n    .dataframe tbody tr th {\n        vertical-align: top;\n    }\n\n    .dataframe thead th {\n        text-align: right;\n    }\n</style>\n<table border=\"1\" class=\"dataframe\">\n  <thead>\n    <tr style=\"text-align: right;\">\n      <th></th>\n      <th>MARSTAT</th>\n      <th>EDUCATION</th>\n      <th>NUMHH</th>\n      <th>INCOME</th>\n      <th>FACEbc</th>\n      <th>MAR0</th>\n      <th>MAR2</th>\n    </tr>\n  </thead>\n  <tbody>\n    <tr>\n      <th>1</th>\n      <td>1</td>\n      <td>9</td>\n      <td>3</td>\n      <td>9.392662</td>\n      <td>4.489410</td>\n      <td>0</td>\n      <td>0</td>\n    </tr>\n    <tr>\n      <th>2</th>\n      <td>1</td>\n      <td>16</td>\n      <td>5</td>\n      <td>11.695247</td>\n      <td>4.667959</td>\n      <td>0</td>\n      <td>0</td>\n    </tr>\n    <tr>\n      <th>3</th>\n      <td>1</td>\n      <td>17</td>\n      <td>4</td>\n      <td>10.596635</td>\n      <td>4.391879</td>\n      <td>0</td>\n      <td>0</td>\n    </tr>\n    <tr>\n      <th>5</th>\n      <td>2</td>\n      <td>11</td>\n      <td>4</td>\n      <td>10.239960</td>\n      <td>4.535591</td>\n      <td>0</td>\n      <td>1</td>\n    </tr>\n    <tr>\n      <th>7</th>\n      <td>1</td>\n      <td>16</td>\n      <td>3</td>\n      <td>11.512925</td>\n      <td>4.611143</td>\n      <td>0</td>\n      <td>0</td>\n    </tr>\n    <tr>\n      <th>10</th>\n      <td>1</td>\n      <td>17</td>\n      <td>2</td>\n      <td>11.626254</td>\n      <td>4.464478</td>\n      <td>0</td>\n      <td>0</td>\n    </tr>\n    <tr>\n      <th>11</th>\n      <td>1</td>\n      <td>16</td>\n      <td>4</td>\n      <td>9.615805</td>\n      <td>4.695352</td>\n      <td>0</td>\n      <td>0</td>\n    </tr>\n    <tr>\n      <th>13</th>\n      <td>0</td>\n      <td>14</td>\n      <td>1</td>\n      <td>10.373491</td>\n      <td>4.546091</td>\n      <td>1</td>\n      <td>0</td>\n    </tr>\n    <tr>\n      <th>16</th>\n      <td>1</td>\n      <td>12</td>\n      <td>2</td>\n      <td>10.126631</td>\n      <td>4.391879</td>\n      <td>0</td>\n      <td>0</td>\n    </tr>\n    <tr>\n      <th>18</th>\n      <td>2</td>\n      <td>12</td>\n      <td>6</td>\n      <td>10.596635</td>\n      <td>4.454087</td>\n      <td>0</td>\n      <td>1</td>\n    </tr>\n    <tr>\n      <th>21</th>\n      <td>2</td>\n      <td>17</td>\n      <td>4</td>\n      <td>11.695247</td>\n      <td>4.683733</td>\n      <td>0</td>\n      <td>1</td>\n    </tr>\n    <tr>\n      <th>22</th>\n      <td>0</td>\n      <td>13</td>\n      <td>3</td>\n      <td>9.472705</td>\n      <td>4.391879</td>\n      <td>1</td>\n      <td>0</td>\n    </tr>\n    <tr>\n      <th>25</th>\n      <td>1</td>\n      <td>17</td>\n      <td>2</td>\n      <td>12.206073</td>\n      <td>4.667959</td>\n      <td>0</td>\n      <td>0</td>\n    </tr>\n    <tr>\n      <th>26</th>\n      <td>0</td>\n      <td>14</td>\n      <td>1</td>\n      <td>10.819778</td>\n      <td>4.502462</td>\n      <td>1</td>\n      <td>0</td>\n    </tr>\n    <tr>\n      <th>29</th>\n      <td>1</td>\n      <td>7</td>\n      <td>4</td>\n      <td>10.714418</td>\n      <td>4.464478</td>\n      <td>0</td>\n      <td>0</td>\n    </tr>\n  </tbody>\n</table>\n</div>"
     },
     "execution_count": 5,
     "metadata": {},
     "output_type": "execute_result"
    }
   ],
   "source": [
    "import numpy as np\n",
    "from numpy import log as ln\n",
    "FACEbc = df_filtered.drop(['FACE'], axis = 1)\n",
    "FACEbc['FACEbc'] = df_filtered['FACEbc']\n",
    "FACEbc['INCOME']= ln(FACEbc['INCOME'])\n",
    "FACEbc['MAR0']= FACEbc['MARSTAT']\n",
    "FACEbc['MAR0'] = np.where(FACEbc['MAR0'] == 0, 1, 0)\n",
    "FACEbc['MAR2']= FACEbc['MARSTAT']\n",
    "FACEbc['MAR2'] = np.where(FACEbc['MAR2'] == 2, 1, 0)\n",
    "FACEbc.head(15)"
   ],
   "metadata": {
    "collapsed": false,
    "pycharm": {
     "name": "#%%\n"
    }
   }
  },
  {
   "cell_type": "code",
   "execution_count": 15,
   "metadata": {
    "pycharm": {
     "name": "#%%\n"
    }
   },
   "outputs": [
    {
     "name": "stdout",
     "output_type": "stream",
     "text": [
      "intercept: 4.054996004855618\n",
      "coefficent: [ 0.01335962  0.00759392  0.02511296 -0.04642982 -0.01841342]\n"
     ]
    }
   ],
   "source": [
    "# [b]\n",
    "import numpy as np\n",
    "\n",
    "y = df_filtered['FACEbc'].to_numpy()\n",
    "x = df_filtered.to_numpy()\n",
    "from sklearn.linear_model import LinearRegression\n",
    "reg = LinearRegression()\n",
    "result = reg.fit(FACEbc[['EDUCATION', 'NUMHH', 'INCOME', 'MAR0', 'MAR2']], FACEbc['FACEbc'])\n",
    "print('intercept: ' + str(reg.intercept_))\n",
    "print('coefficent: ' + str(reg.coef_))"
   ]
  },
  {
   "cell_type": "code",
   "execution_count": 11,
   "outputs": [],
   "source": [
    "beta = np.array([reg.coef_[0], reg.coef_[1],reg.coef_[2],reg.coef_[3],reg.coef_[4]]).reshape(5, 1)\n",
    "#print(beta)\n",
    "x = FACEbc[['EDUCATION', 'NUMHH', 'INCOME', 'MAR0', 'MAR2']].to_numpy().reshape(213, 5)\n",
    "#print(x)"
   ],
   "metadata": {
    "collapsed": false,
    "pycharm": {
     "name": "#%%\n"
    }
   }
  },
  {
   "cell_type": "code",
   "execution_count": 12,
   "outputs": [
    {
     "name": "stdout",
     "output_type": "stream",
     "text": [
      "[[0.7536999]]\n",
      "[[2.25929397]]\n",
      "[[1.50559407]]\n",
      "[[0.33359975]]\n",
      "0.08528423828756308\n"
     ]
    }
   ],
   "source": [
    "#R_sqaure; sigma_hat\n",
    "import math\n",
    "fitted_y = np.matmul(x, beta) + np.full((213, 1), reg.intercept_)\n",
    "y_bar = sum(fitted_y)/len(fitted_y)\n",
    "n = len(FACEbc)\n",
    "p = 5\n",
    "y_matrix_t = FACEbc[['FACEbc']].to_numpy().reshape(1, 213)\n",
    "y_matrix = FACEbc[['FACEbc']].to_numpy().reshape(213, 1)\n",
    "fitted_y_matrix_t = fitted_y.reshape(1, 213)\n",
    "fitted_y_matrix = fitted_y.reshape(213, 1)\n",
    "TSS = np.matmul(y_matrix_t, y_matrix) - n * (y_bar ** 2)\n",
    "ESS = np.matmul(y_matrix_t, y_matrix) - np.matmul(y_matrix_t, fitted_y_matrix)\n",
    "RSS = np.matmul(fitted_y_matrix_t, fitted_y_matrix) - n * (y_bar ** 2)\n",
    "print(RSS); print(TSS); print(ESS)\n",
    "R_sqaure = RSS/TSS\n",
    "sigma_square = ESS/(n-p-1)\n",
    "sigma_hat = math.sqrt(sigma_square)\n",
    "print(R_sqaure); print(sigma_hat)"
   ],
   "metadata": {
    "collapsed": false,
    "pycharm": {
     "name": "#%%\n"
    }
   }
  },
  {
   "cell_type": "code",
   "execution_count": 14,
   "outputs": [
    {
     "name": "stdout",
     "output_type": "stream",
     "text": [
      "                            OLS Regression Results                            \n",
      "==============================================================================\n",
      "Dep. Variable:                 FACEbc   R-squared:                       0.334\n",
      "Model:                            OLS   Adj. R-squared:                  0.318\n",
      "Method:                 Least Squares   F-statistic:                     20.72\n",
      "Date:                Wed, 09 Mar 2022   Prob (F-statistic):           9.13e-17\n",
      "Time:                        23:42:17   Log-Likelihood:                 225.17\n",
      "No. Observations:                 213   AIC:                            -438.3\n",
      "Df Residuals:                     207   BIC:                            -418.2\n",
      "Df Model:                           5                                         \n",
      "Covariance Type:            nonrobust                                         \n",
      "==============================================================================\n",
      "                 coef    std err          t      P>|t|      [0.025      0.975]\n",
      "------------------------------------------------------------------------------\n",
      "Intercept      4.0550      0.060     67.405      0.000       3.936       4.174\n",
      "EDUCATION      0.0134      0.003      4.788      0.000       0.008       0.019\n",
      "NUMHH          0.0076      0.004      1.766      0.079      -0.001       0.016\n",
      "INCOME         0.0251      0.005      5.089      0.000       0.015       0.035\n",
      "MAR0          -0.0464      0.018     -2.612      0.010      -0.081      -0.011\n",
      "MAR2          -0.0184      0.036     -0.513      0.609      -0.089       0.052\n",
      "==============================================================================\n",
      "Omnibus:                        1.561   Durbin-Watson:                   1.810\n",
      "Prob(Omnibus):                  0.458   Jarque-Bera (JB):                1.294\n",
      "Skew:                           0.009   Prob(JB):                        0.524\n",
      "Kurtosis:                       3.381   Cond. No.                         199.\n",
      "==============================================================================\n",
      "\n",
      "Notes:\n",
      "[1] Standard Errors assume that the covariance matrix of the errors is correctly specified.\n",
      "             sum_sq     df          F        PR(>F)\n",
      "EDUCATION  0.166735    1.0  22.923955  3.205939e-06\n",
      "NUMHH      0.022672    1.0   3.117060  7.895079e-02\n",
      "INCOME     0.188388    1.0  25.900932  8.050034e-07\n",
      "MAR0       0.049623    1.0   6.822575  9.660766e-03\n",
      "MAR2       0.001913    1.0   0.262958  6.086417e-01\n",
      "Residual   1.505594  207.0        NaN           NaN\n"
     ]
    }
   ],
   "source": [
    "#[c]\n",
    "import statsmodels.api as sm\n",
    "from statsmodels.formula.api import ols\n",
    "from scipy import stats\n",
    "#Full\n",
    "model = ols('FACEbc ~ EDUCATION + NUMHH + INCOME + MAR0 + MAR2', FACEbc).fit()\n",
    "print(model.summary())\n",
    "aov_table = sm.stats.anova_lm(model, typ=2)\n",
    "print(aov_table)"
   ],
   "metadata": {
    "collapsed": false,
    "pycharm": {
     "name": "#%%\n"
    }
   }
  },
  {
   "cell_type": "code",
   "execution_count": 13,
   "metadata": {
    "pycharm": {
     "name": "#%%\n"
    }
   },
   "outputs": [
    {
     "name": "stdout",
     "output_type": "stream",
     "text": [
      "                            OLS Regression Results                            \n",
      "==============================================================================\n",
      "Dep. Variable:                 FACEbc   R-squared:                       0.334\n",
      "Model:                            OLS   Adj. R-squared:                  0.318\n",
      "Method:                 Least Squares   F-statistic:                     20.72\n",
      "Date:                Wed, 09 Mar 2022   Prob (F-statistic):           9.13e-17\n",
      "Time:                        23:41:36   Log-Likelihood:                 225.17\n",
      "No. Observations:                 213   AIC:                            -438.3\n",
      "Df Residuals:                     207   BIC:                            -418.2\n",
      "Df Model:                           5                                         \n",
      "Covariance Type:            nonrobust                                         \n",
      "==============================================================================\n",
      "                 coef    std err          t      P>|t|      [0.025      0.975]\n",
      "------------------------------------------------------------------------------\n",
      "Intercept      4.0550      0.060     67.405      0.000       3.936       4.174\n",
      "EDUCATION      0.0134      0.003      4.788      0.000       0.008       0.019\n",
      "NUMHH          0.0076      0.004      1.766      0.079      -0.001       0.016\n",
      "INCOME         0.0251      0.005      5.089      0.000       0.015       0.035\n",
      "MAR0          -0.0464      0.018     -2.612      0.010      -0.081      -0.011\n",
      "MAR2          -0.0184      0.036     -0.513      0.609      -0.089       0.052\n",
      "==============================================================================\n",
      "Omnibus:                        1.561   Durbin-Watson:                   1.810\n",
      "Prob(Omnibus):                  0.458   Jarque-Bera (JB):                1.294\n",
      "Skew:                           0.009   Prob(JB):                        0.524\n",
      "Kurtosis:                       3.381   Cond. No.                         199.\n",
      "==============================================================================\n",
      "\n",
      "Notes:\n",
      "[1] Standard Errors assume that the covariance matrix of the errors is correctly specified.\n",
      "             sum_sq     df          F        PR(>F)\n",
      "EDUCATION  0.166735    1.0  22.923955  3.205939e-06\n",
      "NUMHH      0.022672    1.0   3.117060  7.895079e-02\n",
      "INCOME     0.188388    1.0  25.900932  8.050034e-07\n",
      "MAR0       0.049623    1.0   6.822575  9.660766e-03\n",
      "MAR2       0.001913    1.0   0.262958  6.086417e-01\n",
      "Residual   1.505594  207.0        NaN           NaN\n"
     ]
    }
   ],
   "source": [
    "#[c]\n",
    "import statsmodels.api as sm\n",
    "from scipy import stats\n",
    "X2 = sm.add_constant(x)\n",
    "est = sm.OLS(y, X2)\n",
    "est2 = est.fit()\n",
    "print(est2.summary())"
   ]
  },
  {
   "cell_type": "code",
   "execution_count": 8,
   "metadata": {
    "pycharm": {
     "name": "#%%\n"
    }
   },
   "outputs": [
    {
     "name": "stdout",
     "output_type": "stream",
     "text": [
      "R2 = 1\n",
      "F = 6.790e+20\n",
      "critical value: 0.05\n",
      "H0 is fail to rejected\n"
     ]
    }
   ],
   "source": [
    "# [b & c]\n",
    "print('R2 = 1')\n",
    "print('F = 6.790e+20')\n",
    "print('critical value: 0.05')\n",
    "print('H0 is fail to rejected')"
   ]
  },
  {
   "cell_type": "code",
   "execution_count": 9,
   "metadata": {
    "pycharm": {
     "name": "#%%\n"
    }
   },
   "outputs": [
    {
     "name": "stdout",
     "output_type": "stream",
     "text": [
      "Prediction Amount: 180.0271324820659\n",
      "Prediction interval: [0.01933503 0.01576345]\n"
     ]
    }
   ],
   "source": [
    "# [d]\n",
    "# FACEbc = β0 + β1EDUCATION + β2NUMHH + β3 ln(INCOME) + β4MAR0 + β5MAR2 + e\n",
    "\n",
    "pred = 4.2170313639659565 + 3.22*16 + 3.691*4 + 9.194*np.log(120000) + 0 + 1*2\n",
    "print('Prediction Amount: ' + str(pred))\n",
    "print('Prediction interval: '+ str(reg.coef_))"
   ]
  },
  {
   "cell_type": "code",
   "execution_count": 9,
   "metadata": {
    "pycharm": {
     "name": "#%%\n"
    }
   },
   "outputs": [],
   "source": []
  }
 ],
 "metadata": {
  "kernelspec": {
   "display_name": "Python 3",
   "language": "python",
   "name": "python3"
  },
  "language_info": {
   "codemirror_mode": {
    "name": "ipython",
    "version": 3
   },
   "file_extension": ".py",
   "mimetype": "text/x-python",
   "name": "python",
   "nbconvert_exporter": "python",
   "pygments_lexer": "ipython3",
   "version": "3.8.8"
  }
 },
 "nbformat": 4,
 "nbformat_minor": 1
}