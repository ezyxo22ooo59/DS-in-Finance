{
 "cells": [
  {
   "cell_type": "code",
   "execution_count": 10,
   "metadata": {
    "collapsed": true,
    "pycharm": {
     "name": "#%%\n"
    }
   },
   "outputs": [],
   "source": [
    "import numpy as np\n",
    "import math\n",
    "import matplotlib.pyplot as plt\n",
    "from sklearn.model_selection import LeaveOneOut\n",
    "from sklearn.model_selection import cross_val_score\n",
    "from sklearn.model_selection import KFold"
   ]
  },
  {
   "cell_type": "code",
   "execution_count": null,
   "outputs": [],
   "source": [
    "fname = 'data5.csv'\n",
    "data = np.genfromtxt(fname, delimiter=',', names=True)  #structured array\n",
    "x = data['x']\n",
    "y = data['y']"
   ],
   "metadata": {
    "collapsed": false,
    "pycharm": {
     "name": "#%%\n"
    }
   }
  },
  {
   "cell_type": "code",
   "execution_count": 25,
   "outputs": [
    {
     "data": {
      "text/plain": "array([(0.        , 2.81280852), (0.04081633, 2.51295269),\n       (0.08163265, 2.62499575), (0.12244898, 1.66917379),\n       (0.16326531, 3.84934481), (0.20408163, 3.58238617),\n       (0.24489796, 2.90965775), (0.28571429, 3.52261806),\n       (0.32653061, 3.34097174), (0.36734694, 2.98943961),\n       (0.40816327, 3.82247984), (0.44897959, 3.24715143),\n       (0.48979592, 3.30816848), (0.53061224, 3.14810414),\n       (0.57142857, 3.84472982), (0.6122449 , 3.64223163),\n       (0.65306122, 4.04059257), (0.69387755, 3.54204229),\n       (0.73469388, 3.98833773), (0.7755102 , 3.55971021),\n       (0.81632653, 4.50917161), (0.85714286, 4.26675143),\n       (0.89795918, 4.42405212), (0.93877551, 4.55182512),\n       (0.97959184, 3.93081133), (1.02040816, 4.91924521),\n       (1.06122449, 5.64935655), (1.10204082, 3.89705901),\n       (1.14285714, 3.94881401), (1.18367347, 4.16034838),\n       (1.2244898 , 5.43478409), (1.26530612, 5.18179142),\n       (1.30612245, 5.7621152 ), (1.34693878, 5.69184521),\n       (1.3877551 , 5.54582172), (1.42857143, 5.69472695),\n       (1.46938776, 5.58231243), (1.51020408, 6.21826803),\n       (1.55102041, 5.33843427), (1.59183673, 5.81407594),\n       (1.63265306, 6.27069734), (1.67346939, 7.1767221 ),\n       (1.71428571, 6.02317737), (1.75510204, 5.99794487),\n       (1.79591837, 6.39062007), (1.83673469, 7.2944674 ),\n       (1.87755102, 6.83273251), (1.91836735, 7.75570757),\n       (1.95918367, 6.30352261), (2.        , 7.95331767)],\n      dtype=[('x', '<f8'), ('y', '<f8')])"
     },
     "execution_count": 25,
     "metadata": {},
     "output_type": "execute_result"
    }
   ],
   "source": [
    "data"
   ],
   "metadata": {
    "collapsed": false,
    "pycharm": {
     "name": "#%%\n"
    }
   }
  },
  {
   "cell_type": "code",
   "execution_count": 24,
   "outputs": [
    {
     "data": {
      "text/plain": "(50,)"
     },
     "execution_count": 24,
     "metadata": {},
     "output_type": "execute_result"
    }
   ],
   "source": [
    "data.shape"
   ],
   "metadata": {
    "collapsed": false,
    "pycharm": {
     "name": "#%%\n"
    }
   }
  },
  {
   "cell_type": "code",
   "execution_count": 26,
   "outputs": [
    {
     "data": {
      "text/plain": "numpy.ndarray"
     },
     "execution_count": 26,
     "metadata": {},
     "output_type": "execute_result"
    }
   ],
   "source": [
    "type(data)"
   ],
   "metadata": {
    "collapsed": false,
    "pycharm": {
     "name": "#%%\n"
    }
   }
  },
  {
   "cell_type": "code",
   "execution_count": 12,
   "outputs": [
    {
     "data": {
      "text/plain": "array([-277.89974678, -282.02426641])"
     },
     "execution_count": 12,
     "metadata": {},
     "output_type": "execute_result"
    }
   ],
   "source": [
    "beta = np.array([0.5,0.75])  # start point\n",
    "def gradient(beta):\n",
    "    df0 = 0\n",
    "    for i in range (len(x)):\n",
    "        df0 += -2*(y[i]-math.exp(beta[0]+beta[1]*x[i]))*math.exp(beta[0]+beta[1]*x[i])\n",
    "\n",
    "    df1 = 0\n",
    "    for i in range (len(x)):\n",
    "        df1 += -2*(y[i]-math.exp(beta[0]+beta[1]*x[i]))*math.exp(beta[0]+beta[1]*x[i])*x[i]\n",
    "\n",
    "    return np.array([df0, df1])\n",
    "gradient(beta)"
   ],
   "metadata": {
    "collapsed": false,
    "pycharm": {
     "name": "#%%\n"
    }
   }
  },
  {
   "cell_type": "code",
   "execution_count": 13,
   "outputs": [
    {
     "data": {
      "text/plain": "array([[1474.68839977, 2265.88996475],\n       [2265.88996475, 3746.90298484]])"
     },
     "execution_count": 13,
     "metadata": {},
     "output_type": "execute_result"
    }
   ],
   "source": [
    "def J(beta):\n",
    "    J00=0\n",
    "    J01=0\n",
    "    J10=0\n",
    "    J11=0\n",
    "    #    J[0][0] = -np.sum(2*y*np.exp(beta[0]+beta[1]*x)-4*np.exp(2*beta[0]+2*beta[1]*x))\n",
    "    for i in range (len(x)):\n",
    "        J00 += -2*(y[i]*math.exp(beta[0]+beta[1]*x[i])-2*math.exp(2*beta[0]+2*beta[1]*x[i]))\n",
    "\n",
    "    for i in range (len(x)):\n",
    "        J01 += -2*(x[i]*y[i]*math.exp(beta[0]+beta[1]*x[i])-2*x[i]*math.exp(2*beta[0]+2*beta[1]*x[i]))\n",
    "\n",
    "    for i in range (len(x)):\n",
    "        J10 += -2*(x[i]*y[i]*math.exp(beta[0]+beta[1]*x[i])-2*x[i]*math.exp(2*beta[0]+2*beta[1]*x[i]))\n",
    "\n",
    "    for i in range (len(x)):\n",
    "        J11 += -2*(x[i]*y[i]*x[i]*math.exp(beta[0]+beta[1]*x[i])-2*x[i]*x[i]*math.exp(2*beta[0]+2*beta[1]*x[i]))\n",
    "\n",
    "    return np.array([[J00, J01],[J10, J11]])\n",
    "J(beta)"
   ],
   "metadata": {
    "collapsed": false,
    "pycharm": {
     "name": "#%%\n"
    }
   }
  },
  {
   "cell_type": "code",
   "execution_count": 14,
   "outputs": [
    {
     "name": "stdout",
     "output_type": "stream",
     "text": [
      "SSE at b_truth = (1.0, 0.5)^T is 12.0146\n"
     ]
    }
   ],
   "source": [
    "# 1] SSE at Beta_truth\n",
    "beta_truth = np.array([1.0,0.5])\n",
    "SSE = 0\n",
    "for i in range(len(x)):\n",
    "    SSE += (y[i]-math.exp(beta_truth[0]+beta_truth[1]*x[i]))**2\n",
    "print(\"SSE at b_truth = (1.0, 0.5)^T is\",format(SSE,'.4f'))"
   ],
   "metadata": {
    "collapsed": false,
    "pycharm": {
     "name": "#%%\n"
    }
   }
  },
  {
   "cell_type": "code",
   "execution_count": 15,
   "outputs": [
    {
     "name": "stdout",
     "output_type": "stream",
     "text": [
      "iteration \t beta_hat \t\t\t loss\n",
      "initial\t\t [0.5  0.75] \t\t\t 52.5878764032458434\n",
      "1 \t\t [1.52803886 0.20357575] \t 86.7162610628762849\n",
      "2 \t\t [1.19835774 0.38368614] \t 19.8826873018138279\n",
      "3 \t\t [1.03209878 0.48346503] \t 12.2028742723290815\n",
      "4 \t\t [0.99943653 0.50282426] \t 12.0003885870393479\n",
      "5 \t\t [0.99834641 0.5034644 ] \t 12.0001794095701548\n",
      "6 \t\t [0.99834523 0.50346509] \t 12.0001794093252734\n",
      "7 \t\t [0.99834523 0.50346509] \t 12.0001794093252698\n",
      "\n",
      "The smallest loss achieved = 12.0001794093252698\n",
      "The fitted beta = [0.99835 0.50347] ^T\n",
      "The number of iteration needed to reach this loss = 7\n"
     ]
    }
   ],
   "source": [
    "# 1&2 loss, beta, iteration\n",
    "beta = np.array([0.5,0.75])  # start point\n",
    "max_iters = 20  # maximum number of iterations\n",
    "iters = 0  #iteration counter\n",
    "loss_history = [int(1000),int(900)]\n",
    "tolerance = 0.0000000001\n",
    "diff = abs(loss_history[-1] - loss_history[-2])\n",
    "loss = 0\n",
    "for i in range (len(x)):\n",
    "    loss += (y[i]-math.exp(beta[0]+beta[1]*x[i]))**2\n",
    "\n",
    "print(\"iteration\",\"\\t\",\"beta_hat\",\"\\t\\t\\t\",\"loss\")\n",
    "print(\"initial\\t\\t\",beta,\"\\t\\t\\t\",format(loss,'.16f'))\n",
    "\n",
    "while diff > tolerance and iters < max_iters:\n",
    "    beta = beta-np.linalg.inv(J(beta)).dot(gradient(beta))\n",
    "    loss = 0\n",
    "    for i in range (len(x)):\n",
    "        loss += (y[i]-math.exp(beta[0]+beta[1]*x[i]))**2\n",
    "    iters += 1\n",
    "    print(iters,\"\\t\\t\",np.round(beta,8),\"\\t\",format(loss,'.16f'))\n",
    "    loss_history.append(loss)\n",
    "    diff = abs(loss_history[-1] - loss_history[-2])\n",
    "#    print(gradient(beta))\n",
    "\n",
    "print(\"\\nThe smallest loss achieved =\",format(loss,'.16f'))\n",
    "print(\"The fitted beta =\", np.round(beta,5),\"^T\")\n",
    "print(\"The number of iteration needed to reach this loss =\",iters)"
   ],
   "metadata": {
    "collapsed": false,
    "pycharm": {
     "name": "#%%\n"
    }
   }
  },
  {
   "cell_type": "code",
   "execution_count": 16,
   "outputs": [
    {
     "data": {
      "text/plain": "<Figure size 1440x288 with 1 Axes>",
      "image/png": "[encoded data removed]"
     },
     "metadata": {
      "needs_background": "light"
     },
     "output_type": "display_data"
    }
   ],
   "source": [
    "# 3] plot of fitted regression funtion + truth\n",
    "fig = plt.figure(figsize=(20,4))\n",
    "\n",
    "ax1 = fig.add_subplot(131)\n",
    "ax1.plot(x, y, 'o', label='observations')\n",
    "ax1.set_xlabel('x')\n",
    "ax1.set_ylabel('y')\n",
    "ax1.plot(x, np.exp(1+0.5*x), label='truth', color='b')\n",
    "ax1.plot(x, np.exp(beta[0]+beta[1]*x),label='fitted')\n",
    "ax1.legend()\n",
    "\n",
    "plt.show()"
   ],
   "metadata": {
    "collapsed": false,
    "pycharm": {
     "name": "#%%\n"
    }
   }
  },
  {
   "cell_type": "code",
   "execution_count": 20,
   "outputs": [
    {
     "name": "stdout",
     "output_type": "stream",
     "text": [
      "[2.81280852]\n",
      "[2.51295269]\n",
      "[2.62499575]\n",
      "[1.66917379]\n",
      "[3.84934481]\n",
      "[3.58238617]\n",
      "[2.90965775]\n",
      "[3.52261806]\n",
      "[3.34097174]\n",
      "[2.98943961]\n",
      "[3.82247984]\n",
      "[3.24715143]\n",
      "[3.30816848]\n",
      "[3.14810414]\n",
      "[3.84472982]\n",
      "[3.64223163]\n",
      "[4.04059257]\n",
      "[3.54204229]\n",
      "[3.98833773]\n",
      "[3.55971021]\n",
      "[4.50917161]\n",
      "[4.26675143]\n",
      "[4.42405212]\n",
      "[4.55182512]\n",
      "[3.93081133]\n",
      "[4.91924521]\n",
      "[5.64935655]\n",
      "[3.89705901]\n",
      "[3.94881401]\n",
      "[4.16034838]\n",
      "[5.43478409]\n",
      "[5.18179142]\n",
      "[5.7621152]\n",
      "[5.69184521]\n",
      "[5.54582172]\n",
      "[5.69472695]\n",
      "[5.58231243]\n",
      "[6.21826803]\n",
      "[5.33843427]\n",
      "[5.81407594]\n",
      "[6.27069734]\n",
      "[7.1767221]\n",
      "[6.02317737]\n",
      "[5.99794487]\n",
      "[6.39062007]\n",
      "[7.2944674]\n",
      "[6.83273251]\n",
      "[7.75570757]\n",
      "[6.30352261]\n",
      "[7.95331767]\n",
      "Estimated RMSE via LOOCV = 0.4899016107204643\n"
     ]
    }
   ],
   "source": [
    "MSE = []\n",
    "# 4] prediction error using LOOCV\n",
    "cv = LeaveOneOut()\n",
    "for train, test in cv.split(x):\n",
    "    x_train, x_test = x[train], x[test]\n",
    "    y_train, y_test = y[train], y[test]\n",
    "    #print(y_test)\n",
    "    fitted_y = np.exp(beta[0]+beta[1]*x_test)\n",
    "    MSE.append((y_test - fitted_y)**2)\n",
    "print(\"Estimated RMSE via LOOCV =\",math.sqrt(np.mean(MSE)))"
   ],
   "metadata": {
    "collapsed": false,
    "pycharm": {
     "name": "#%%\n"
    }
   }
  },
  {
   "cell_type": "code",
   "execution_count": 21,
   "outputs": [
    {
     "name": "stdout",
     "output_type": "stream",
     "text": [
      "Estimated RMSE via 10-fold CV = 0.4899016107204643\n"
     ]
    }
   ],
   "source": [
    "MSE_10fold = []\n",
    "mse=0\n",
    "# 5] prediction error using the 10-fold cross validation approach\n",
    "cv_10fold = KFold(n_splits=10, random_state=10, shuffle=True)\n",
    "for train, test in cv_10fold.split(x):\n",
    "    x_train_10fold, x_test_10fold = x[train], x[test]\n",
    "    y_train_10fold, y_test_10fold = y[train], y[test]\n",
    "    fitted_y_10fold = np.exp(beta[0]+beta[1]*x_train_10fold)\n",
    "    MSE_10fold.append((y_train_10fold-fitted_y_10fold)**2)\n",
    "RMSE = math.sqrt(np.mean(MSE_10fold))\n",
    "print(\"Estimated RMSE via 10-fold CV =\",RMSE)"
   ],
   "metadata": {
    "collapsed": false,
    "pycharm": {
     "name": "#%%\n"
    }
   }
  },
  {
   "cell_type": "code",
   "execution_count": null,
   "outputs": [],
   "source": [],
   "metadata": {
    "collapsed": false,
    "pycharm": {
     "name": "#%%\n"
    }
   }
  }
 ],
 "metadata": {
  "kernelspec": {
   "display_name": "Python 3",
   "language": "python",
   "name": "python3"
  },
  "language_info": {
   "codemirror_mode": {
    "name": "ipython",
    "version": 2
   },
   "file_extension": ".py",
   "mimetype": "text/x-python",
   "name": "python",
   "nbconvert_exporter": "python",
   "pygments_lexer": "ipython2",
   "version": "2.7.6"
  }
 },
 "nbformat": 4,
 "nbformat_minor": 0
}