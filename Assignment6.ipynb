{
 "cells": [
  {
   "cell_type": "code",
   "execution_count": 239,
   "metadata": {
    "collapsed": true,
    "pycharm": {
     "name": "#%%\n"
    }
   },
   "outputs": [],
   "source": [
    "import numpy as np\n",
    "import pandas as pd\n",
    "import math\n",
    "from numpy import mean"
   ]
  },
  {
   "cell_type": "code",
   "execution_count": 240,
   "metadata": {
    "pycharm": {
     "name": "#%%\n"
    }
   },
   "outputs": [],
   "source": [
    "df = pd.read_csv('data (1).csv')"
   ]
  },
  {
   "cell_type": "code",
   "execution_count": 241,
   "metadata": {
    "pycharm": {
     "name": "#%%\n"
    }
   },
   "outputs": [],
   "source": [
    "y = df['y'].values.reshape(-1,1).astype('float32')\n",
    "m = mean(y)\n",
    "X = np.array([m for i in range(0, 200)])"
   ]
  },
  {
   "cell_type": "code",
   "execution_count": 242,
   "metadata": {
    "pycharm": {
     "name": "#%%\n"
    }
   },
   "outputs": [
    {
     "name": "stdout",
     "output_type": "stream",
     "text": [
      "Estimated RMSE via 10-fold CV = 4.7176467919569935\n",
      "Estimated R^2 via 10-fold CV = 0.0\n",
      "Estimated E(RMSEtest) via 10-fold CV = 4.7176467919569935\n",
      "Estimated E(R^2 test) via 10-fold CV = 0.0\n"
     ]
    }
   ],
   "source": [
    "# Null model\n",
    "from sklearn.model_selection import KFold\n",
    "MSE_10fold_null = []\n",
    "MSE_10fold_null_test = []\n",
    "rss = 0\n",
    "tss = 0\n",
    "tss_test = 0\n",
    "cv_10fold = KFold(n_splits=10, random_state=10, shuffle=True)\n",
    "for train, test in cv_10fold.split(X):\n",
    "    #print(test)\n",
    "    x_train_10fold, x_test_10fold = X[train], X[test]\n",
    "    y_train_10fold, y_test_10fold = y[train], y[test]\n",
    "    fitted_y_10fold = m\n",
    "    #print(fitted_y_10fold)\n",
    "    rss += (fitted_y_10fold - mean(y)) ** 2\n",
    "    tss += (y_train_10fold - mean(y)) ** 2\n",
    "    tss_test += (y_test_10fold - mean(y)) ** 2\n",
    "    MSE_10fold_null.append((y_train_10fold-fitted_y_10fold)**2)\n",
    "    MSE_10fold_null_test.append((y_test_10fold-fitted_y_10fold)**2)\n",
    "RMSE_null = math.sqrt(np.mean(MSE_10fold_null))\n",
    "E_RMSE_null_test = math.sqrt(np.mean(MSE_10fold_null_test))\n",
    "R2_null = mean(rss)/mean(tss)\n",
    "E_R2_null_test = mean(rss)/mean(tss_test)\n",
    "print(\"Estimated RMSE via 10-fold CV =\",RMSE_null)\n",
    "print(\"Estimated R^2 via 10-fold CV =\",R2_null)\n",
    "print(\"Estimated E(RMSEtest) via 10-fold CV =\",E_RMSE_null_test)\n",
    "print(\"Estimated E(R^2 test) via 10-fold CV =\",E_R2_null_test)"
   ]
  },
  {
   "cell_type": "code",
   "execution_count": 243,
   "metadata": {
    "pycharm": {
     "name": "#%%\n"
    }
   },
   "outputs": [],
   "source": [
    "y = df['y'].values.reshape(-1,1).astype('float32')\n",
    "#X = df[['x1','x2','x3','x4','x5']]\n",
    "X = df[['x1','x2','x3','x4','x5']].values.reshape(-1,5).astype('float32')"
   ]
  },
  {
   "cell_type": "code",
   "execution_count": 244,
   "metadata": {
    "pycharm": {
     "name": "#%%\n"
    }
   },
   "outputs": [],
   "source": [
    "# Full model\n",
    "from sklearn.linear_model import LinearRegression\n",
    "full_model = LinearRegression(fit_intercept=True, normalize=True).fit(X, y)\n",
    "bs_full = full_model.coef_\n",
    "b0_full = full_model.intercept_\n",
    "bh_full = sum(abs(bs_full[0]))"
   ]
  },
  {
   "cell_type": "code",
   "execution_count": 245,
   "metadata": {
    "pycharm": {
     "name": "#%%\n"
    }
   },
   "outputs": [
    {
     "name": "stdout",
     "output_type": "stream",
     "text": [
      "Estimated RMSE via 10-fold CV = 6.029924474341263\n",
      "Estimated R^2 via 10-fold CV = 0.63473547\n",
      "Estimated E(RMSEtest) via 10-fold CV = 6.048960244864014\n",
      "Estimated E(R^2 test) via 10-fold CV = 0.6347354\n"
     ]
    }
   ],
   "source": [
    "MSE_10fold_full = []\n",
    "MSE_10fold_full_test = []\n",
    "rss = 0\n",
    "tss = 0\n",
    "tss_test = 0\n",
    "cv_10fold = KFold(n_splits=10, random_state=10, shuffle=True)\n",
    "for train, test in cv_10fold.split(X):\n",
    "    #print(X)\n",
    "    x_train_10fold, x_test_10fold = X[train], X[test]\n",
    "    y_train_10fold, y_test_10fold = y[train], y[test]\n",
    "    #print(x_train_10fold)\n",
    "    fitted_y_10fold = b0_full + bs_full[0] @ x_train_10fold.T\n",
    "    #fitted_y_10fold = b0_full + bs_full[0][1]*x_train_10fold[0] + bs_full[0][1]*x_train_10fold[1] + bs_full[0][2]*x_train_10fold[2] + bs_full[0][3]*x_train_10fold[3] + bs_full[0][4]*x_train_10fold[4]\n",
    "    #print(fitted_y_10fold)\n",
    "    rss += (fitted_y_10fold - mean(y)) ** 2\n",
    "    tss += (y_train_10fold - mean(y)) ** 2\n",
    "    tss_test += (y_test_10fold - mean(y)) ** 2\n",
    "    MSE_10fold_full.append((y_train_10fold-fitted_y_10fold)**2)\n",
    "    MSE_10fold_full_test.append((y_test_10fold-fitted_y_10fold)**2)\n",
    "RMSE_full = math.sqrt(np.mean(MSE_10fold_full))\n",
    "E_RMSE_full_test = math.sqrt(np.mean(MSE_10fold_full_test))\n",
    "R2_full = mean(rss)/mean(tss)\n",
    "E_R2_full_test = mean(rss)/mean(tss_test)\n",
    "print(\"Estimated RMSE via 10-fold CV =\",RMSE_full)\n",
    "print(\"Estimated R^2 via 10-fold CV =\",R2_full)\n",
    "print(\"Estimated E(RMSEtest) via 10-fold CV =\",E_RMSE_full_test)\n",
    "print(\"Estimated E(R^2 test) via 10-fold CV =\",E_R2_full_test)"
   ]
  },
  {
   "cell_type": "code",
   "execution_count": 246,
   "metadata": {
    "pycharm": {
     "name": "#%%\n"
    }
   },
   "outputs": [],
   "source": [
    "# LASSO (LassoCV10)\n",
    "from sklearn import linear_model\n",
    "clf = linear_model.Lasso()\n",
    "clf.fit(X, y)\n",
    "bs_lasso = clf.coef_\n",
    "b0_lasso = clf.intercept_\n",
    "bh_lasso = sum(abs(bs_lasso))"
   ]
  },
  {
   "cell_type": "code",
   "execution_count": 247,
   "metadata": {
    "pycharm": {
     "name": "#%%\n"
    }
   },
   "outputs": [
    {
     "name": "stdout",
     "output_type": "stream",
     "text": [
      "Estimated RMSE via 10-fold CV = 5.255187242186472\n",
      "Estimated R^2 via 10-fold CV = 0.24147923\n",
      "Estimated E(RMSEtest) via 10-fold CV = 5.268112364860296\n",
      "Estimated E(R^2 test) via 10-fold CV = 0.2414792\n"
     ]
    }
   ],
   "source": [
    "MSE_10fold_lasso = []\n",
    "MSE_10fold_lasso_test = []\n",
    "rss = 0\n",
    "tss = 0\n",
    "tss_test = 0\n",
    "cv_10fold = KFold(n_splits=10, random_state=10, shuffle=True)\n",
    "for train, test in cv_10fold.split(X):\n",
    "    #print(X)\n",
    "    x_train_10fold, x_test_10fold = X[train], X[test]\n",
    "    y_train_10fold, y_test_10fold = y[train], y[test]\n",
    "    #print(x_train_10fold)\n",
    "    fitted_y_10fold = b0_full + bs_lasso @ x_train_10fold.T\n",
    "    #fitted_y_10fold = b0_full + bs_full[0][1]*x_train_10fold[0] + bs_full[0][1]*x_train_10fold[1] + bs_full[0][2]*x_train_10fold[2] + bs_full[0][3]*x_train_10fold[3] + bs_full[0][4]*x_train_10fold[4]\n",
    "    #print(fitted_y_10fold)\n",
    "    rss += (fitted_y_10fold - mean(y)) ** 2\n",
    "    tss += (y_train_10fold - mean(y)) ** 2\n",
    "    tss_test += (y_test_10fold - mean(y)) ** 2\n",
    "    MSE_10fold_lasso.append((y_train_10fold-fitted_y_10fold)**2)\n",
    "    MSE_10fold_lasso_test.append((y_test_10fold-fitted_y_10fold)**2)\n",
    "RMSE_lasso = math.sqrt(np.mean(MSE_10fold_lasso))\n",
    "E_RMSE_lasso_test = math.sqrt(np.mean(MSE_10fold_lasso_test))\n",
    "R2_lasso = mean(rss)/mean(tss)\n",
    "E_R2_lasso_test = mean(rss)/mean(tss_test)\n",
    "print(\"Estimated RMSE via 10-fold CV =\",RMSE_lasso)\n",
    "print(\"Estimated R^2 via 10-fold CV =\",R2_lasso)\n",
    "print(\"Estimated E(RMSEtest) via 10-fold CV =\",E_RMSE_lasso_test)\n",
    "print(\"Estimated E(R^2 test) via 10-fold CV =\",E_R2_lasso_test)"
   ]
  },
  {
   "cell_type": "code",
   "execution_count": 248,
   "metadata": {
    "pycharm": {
     "name": "#%%\n"
    }
   },
   "outputs": [
    {
     "name": "stderr",
     "output_type": "stream",
     "text": [
      "/opt/anaconda3/lib/python3.8/site-packages/sklearn/utils/validation.py:63: DataConversionWarning: A column-vector y was passed when a 1d array was expected. Please change the shape of y to (n_samples, ), for example using ravel().\n",
      "  return f(*args, **kwargs)\n",
      "/opt/anaconda3/lib/python3.8/site-packages/sklearn/linear_model/_coordinate_descent.py:526: UserWarning: Coordinate descent with alpha=0 may lead to unexpected results and is discouraged.\n",
      "  model = cd_fast.enet_coordinate_descent_gram(\n",
      "/opt/anaconda3/lib/python3.8/site-packages/sklearn/linear_model/_coordinate_descent.py:526: UserWarning: Coordinate descent with alpha=0 may lead to unexpected results and is discouraged.\n",
      "  model = cd_fast.enet_coordinate_descent_gram(\n",
      "/opt/anaconda3/lib/python3.8/site-packages/sklearn/linear_model/_coordinate_descent.py:526: UserWarning: Coordinate descent with alpha=0 may lead to unexpected results and is discouraged.\n",
      "  model = cd_fast.enet_coordinate_descent_gram(\n",
      "/opt/anaconda3/lib/python3.8/site-packages/sklearn/linear_model/_coordinate_descent.py:526: ConvergenceWarning: Objective did not converge. You might want to increase the number of iterations. Duality gap: 680.62646484375, tolerance: 0.37369662523269653\n",
      "  model = cd_fast.enet_coordinate_descent_gram(\n",
      "/opt/anaconda3/lib/python3.8/site-packages/sklearn/linear_model/_coordinate_descent.py:526: UserWarning: Coordinate descent with alpha=0 may lead to unexpected results and is discouraged.\n",
      "  model = cd_fast.enet_coordinate_descent_gram(\n",
      "/opt/anaconda3/lib/python3.8/site-packages/sklearn/linear_model/_coordinate_descent.py:526: UserWarning: Coordinate descent with alpha=0 may lead to unexpected results and is discouraged.\n",
      "  model = cd_fast.enet_coordinate_descent_gram(\n",
      "/opt/anaconda3/lib/python3.8/site-packages/sklearn/linear_model/_coordinate_descent.py:526: ConvergenceWarning: Objective did not converge. You might want to increase the number of iterations. Duality gap: 684.1962890625, tolerance: 0.4078482389450073\n",
      "  model = cd_fast.enet_coordinate_descent_gram(\n",
      "/opt/anaconda3/lib/python3.8/site-packages/sklearn/linear_model/_coordinate_descent.py:526: UserWarning: Coordinate descent with alpha=0 may lead to unexpected results and is discouraged.\n",
      "  model = cd_fast.enet_coordinate_descent_gram(\n",
      "/opt/anaconda3/lib/python3.8/site-packages/sklearn/linear_model/_coordinate_descent.py:526: UserWarning: Coordinate descent with alpha=0 may lead to unexpected results and is discouraged.\n",
      "  model = cd_fast.enet_coordinate_descent_gram(\n",
      "/opt/anaconda3/lib/python3.8/site-packages/sklearn/linear_model/_coordinate_descent.py:526: UserWarning: Coordinate descent with alpha=0 may lead to unexpected results and is discouraged.\n",
      "  model = cd_fast.enet_coordinate_descent_gram(\n",
      "/opt/anaconda3/lib/python3.8/site-packages/sklearn/linear_model/_coordinate_descent.py:526: UserWarning: Coordinate descent with alpha=0 may lead to unexpected results and is discouraged.\n",
      "  model = cd_fast.enet_coordinate_descent_gram(\n",
      "/opt/anaconda3/lib/python3.8/site-packages/sklearn/linear_model/_coordinate_descent.py:526: UserWarning: Coordinate descent with alpha=0 may lead to unexpected results and is discouraged.\n",
      "  model = cd_fast.enet_coordinate_descent_gram(\n",
      "/opt/anaconda3/lib/python3.8/site-packages/sklearn/linear_model/_coordinate_descent.py:526: ConvergenceWarning: Objective did not converge. You might want to increase the number of iterations. Duality gap: 736.994384765625, tolerance: 0.40027451515197754\n",
      "  model = cd_fast.enet_coordinate_descent_gram(\n"
     ]
    }
   ],
   "source": [
    "# LASSO (YourCV10 w/ rescaling)\n",
    "from sklearn.linear_model import LassoCV\n",
    "from sklearn.datasets import make_regression\n",
    "#X, y = make_regression(noise=4, random_state=0)\n",
    "lambdas = np.linspace(0, 0.1, 101)\n",
    "#LassoCV(alphas = lambdas, cv = KFold(n_splits = 10, shuffle = True, random_state = 10))\n",
    "reg = LassoCV(alphas = lambdas, cv=KFold(n_splits = 10, shuffle = True, random_state = 10), normalize = True).fit(X, y)\n",
    "bs_yourlasso = reg.coef_\n",
    "b0_yourlasso = reg.intercept_\n",
    "alpha_w = reg.alpha_\n",
    "bh_w = sum(abs(bs_yourlasso))"
   ]
  },
  {
   "cell_type": "code",
   "execution_count": 249,
   "metadata": {
    "pycharm": {
     "name": "#%%\n"
    }
   },
   "outputs": [
    {
     "name": "stdout",
     "output_type": "stream",
     "text": [
      "Estimated RMSE via 10-fold CV = 5.914790361934628\n",
      "Estimated R^2 via 10-fold CV = 0.572884\n",
      "Estimated E(RMSEtest) via 10-fold CV = 5.933071693623774\n",
      "Estimated E(R^2 test) via 10-fold CV = 0.57288396\n"
     ]
    }
   ],
   "source": [
    "MSE_10fold_lasso_w = []\n",
    "MSE_10fold_lasso_w_test = []\n",
    "rss = 0\n",
    "tss = 0\n",
    "tss_test = 0\n",
    "cv_10fold = KFold(n_splits=10, random_state=10, shuffle=True)\n",
    "for train, test in cv_10fold.split(X):\n",
    "    #print(X)\n",
    "    x_train_10fold, x_test_10fold = X[train], X[test]\n",
    "    y_train_10fold, y_test_10fold = y[train], y[test]\n",
    "    #print(x_train_10fold)\n",
    "    fitted_y_10fold = b0_full + bs_yourlasso @ x_train_10fold.T\n",
    "    #fitted_y_10fold = b0_full + bs_full[0][1]*x_train_10fold[0] + bs_full[0][1]*x_train_10fold[1] + bs_full[0][2]*x_train_10fold[2] + bs_full[0][3]*x_train_10fold[3] + bs_full[0][4]*x_train_10fold[4]\n",
    "    #print(fitted_y_10fold)\n",
    "    rss += (fitted_y_10fold - mean(y)) ** 2\n",
    "    tss += (y_train_10fold - mean(y)) ** 2\n",
    "    tss_test += (y_test_10fold - mean(y)) ** 2\n",
    "    MSE_10fold_lasso_w.append((y_train_10fold-fitted_y_10fold)**2)\n",
    "    MSE_10fold_lasso_w_test.append((y_test_10fold-fitted_y_10fold)**2)\n",
    "RMSE_lasso_w = math.sqrt(np.mean(MSE_10fold_lasso_w))\n",
    "E_RMSE_lasso_w_test = math.sqrt(np.mean(MSE_10fold_lasso_w_test))\n",
    "R2_lasso_w = mean(rss)/mean(tss)\n",
    "E_R2_lasso_w_test = mean(rss)/mean(tss_test)\n",
    "print(\"Estimated RMSE via 10-fold CV =\",RMSE_lasso_w)\n",
    "print(\"Estimated R^2 via 10-fold CV =\",R2_lasso_w)\n",
    "print(\"Estimated E(RMSEtest) via 10-fold CV =\",E_RMSE_lasso_w_test)\n",
    "print(\"Estimated E(R^2 test) via 10-fold CV =\",E_R2_lasso_w_test)"
   ]
  },
  {
   "cell_type": "code",
   "execution_count": 250,
   "metadata": {
    "pycharm": {
     "name": "#%%\n"
    }
   },
   "outputs": [
    {
     "name": "stderr",
     "output_type": "stream",
     "text": [
      "/opt/anaconda3/lib/python3.8/site-packages/sklearn/utils/validation.py:63: DataConversionWarning: A column-vector y was passed when a 1d array was expected. Please change the shape of y to (n_samples, ), for example using ravel().\n",
      "  return f(*args, **kwargs)\n",
      "/opt/anaconda3/lib/python3.8/site-packages/sklearn/linear_model/_coordinate_descent.py:526: UserWarning: Coordinate descent with alpha=0 may lead to unexpected results and is discouraged.\n",
      "  model = cd_fast.enet_coordinate_descent_gram(\n",
      "/opt/anaconda3/lib/python3.8/site-packages/sklearn/linear_model/_coordinate_descent.py:526: ConvergenceWarning: Objective did not converge. You might want to increase the number of iterations. Duality gap: 730.28564453125, tolerance: 0.39561405777931213\n",
      "  model = cd_fast.enet_coordinate_descent_gram(\n",
      "/opt/anaconda3/lib/python3.8/site-packages/sklearn/linear_model/_coordinate_descent.py:526: UserWarning: Coordinate descent with alpha=0 may lead to unexpected results and is discouraged.\n",
      "  model = cd_fast.enet_coordinate_descent_gram(\n",
      "/opt/anaconda3/lib/python3.8/site-packages/sklearn/linear_model/_coordinate_descent.py:526: UserWarning: Coordinate descent with alpha=0 may lead to unexpected results and is discouraged.\n",
      "  model = cd_fast.enet_coordinate_descent_gram(\n",
      "/opt/anaconda3/lib/python3.8/site-packages/sklearn/linear_model/_coordinate_descent.py:526: UserWarning: Coordinate descent with alpha=0 may lead to unexpected results and is discouraged.\n",
      "  model = cd_fast.enet_coordinate_descent_gram(\n",
      "/opt/anaconda3/lib/python3.8/site-packages/sklearn/linear_model/_coordinate_descent.py:526: UserWarning: Coordinate descent with alpha=0 may lead to unexpected results and is discouraged.\n",
      "  model = cd_fast.enet_coordinate_descent_gram(\n",
      "/opt/anaconda3/lib/python3.8/site-packages/sklearn/linear_model/_coordinate_descent.py:526: ConvergenceWarning: Objective did not converge. You might want to increase the number of iterations. Duality gap: 684.197021484375, tolerance: 0.4078482389450073\n",
      "  model = cd_fast.enet_coordinate_descent_gram(\n",
      "/opt/anaconda3/lib/python3.8/site-packages/sklearn/linear_model/_coordinate_descent.py:526: UserWarning: Coordinate descent with alpha=0 may lead to unexpected results and is discouraged.\n",
      "  model = cd_fast.enet_coordinate_descent_gram(\n",
      "/opt/anaconda3/lib/python3.8/site-packages/sklearn/linear_model/_coordinate_descent.py:526: UserWarning: Coordinate descent with alpha=0 may lead to unexpected results and is discouraged.\n",
      "  model = cd_fast.enet_coordinate_descent_gram(\n",
      "/opt/anaconda3/lib/python3.8/site-packages/sklearn/linear_model/_coordinate_descent.py:526: ConvergenceWarning: Objective did not converge. You might want to increase the number of iterations. Duality gap: 736.58935546875, tolerance: 0.4175202548503876\n",
      "  model = cd_fast.enet_coordinate_descent_gram(\n",
      "/opt/anaconda3/lib/python3.8/site-packages/sklearn/linear_model/_coordinate_descent.py:526: UserWarning: Coordinate descent with alpha=0 may lead to unexpected results and is discouraged.\n",
      "  model = cd_fast.enet_coordinate_descent_gram(\n",
      "/opt/anaconda3/lib/python3.8/site-packages/sklearn/linear_model/_coordinate_descent.py:526: UserWarning: Coordinate descent with alpha=0 may lead to unexpected results and is discouraged.\n",
      "  model = cd_fast.enet_coordinate_descent_gram(\n",
      "/opt/anaconda3/lib/python3.8/site-packages/sklearn/linear_model/_coordinate_descent.py:526: ConvergenceWarning: Objective did not converge. You might want to increase the number of iterations. Duality gap: 762.26904296875, tolerance: 0.3902175724506378\n",
      "  model = cd_fast.enet_coordinate_descent_gram(\n",
      "/opt/anaconda3/lib/python3.8/site-packages/sklearn/linear_model/_coordinate_descent.py:526: UserWarning: Coordinate descent with alpha=0 may lead to unexpected results and is discouraged.\n",
      "  model = cd_fast.enet_coordinate_descent_gram(\n",
      "/opt/anaconda3/lib/python3.8/site-packages/sklearn/linear_model/_coordinate_descent.py:526: ConvergenceWarning: Objective did not converge. You might want to increase the number of iterations. Duality gap: 736.99365234375, tolerance: 0.40027451515197754\n",
      "  model = cd_fast.enet_coordinate_descent_gram(\n"
     ]
    }
   ],
   "source": [
    "# LASSO (YourCV10 w/o rescaling)\n",
    "reg = LassoCV(alphas = lambdas, cv=KFold(n_splits = 10, shuffle = True, random_state = 10), normalize = False).fit(X, y)\n",
    "bs_wo = reg.coef_\n",
    "b0_wo = reg.intercept_\n",
    "alpha_wo = reg.alpha_\n",
    "bh_wo = sum(abs(bs_wo))"
   ]
  },
  {
   "cell_type": "code",
   "execution_count": 251,
   "metadata": {
    "pycharm": {
     "name": "#%%\n"
    }
   },
   "outputs": [
    {
     "name": "stdout",
     "output_type": "stream",
     "text": [
      "Estimated RMSE via 10-fold CV = 5.9300496791154576\n",
      "Estimated R^2 via 10-fold CV = 0.5810127\n",
      "Estimated E(RMSEtest) via 10-fold CV = 5.948427765149146\n",
      "Estimated E(R^2 test) via 10-fold CV = 0.58101267\n"
     ]
    }
   ],
   "source": [
    "MSE_10fold_lasso_wo = []\n",
    "MSE_10fold_lasso_wo_test = []\n",
    "rss = 0\n",
    "tss = 0\n",
    "tss_test = 0\n",
    "cv_10fold = KFold(n_splits=10, random_state=10, shuffle=True)\n",
    "for train, test in cv_10fold.split(X):\n",
    "    #print(X)\n",
    "    x_train_10fold, x_test_10fold = X[train], X[test]\n",
    "    y_train_10fold, y_test_10fold = y[train], y[test]\n",
    "    #print(x_train_10fold)\n",
    "    fitted_y_10fold = b0_full + bs_wo @ x_train_10fold.T\n",
    "    #fitted_y_10fold = b0_full + bs_full[0][1]*x_train_10fold[0] + bs_full[0][1]*x_train_10fold[1] + bs_full[0][2]*x_train_10fold[2] + bs_full[0][3]*x_train_10fold[3] + bs_full[0][4]*x_train_10fold[4]\n",
    "    #print(fitted_y_10fold)\n",
    "    rss += (fitted_y_10fold - mean(y)) ** 2\n",
    "    tss += (y_train_10fold - mean(y)) ** 2\n",
    "    tss_test += (y_test_10fold - mean(y)) ** 2\n",
    "    MSE_10fold_lasso_wo.append((y_train_10fold-fitted_y_10fold)**2)\n",
    "    MSE_10fold_lasso_wo_test.append((y_test_10fold-fitted_y_10fold)**2)\n",
    "RMSE_lasso_wo = math.sqrt(np.mean(MSE_10fold_lasso_wo))\n",
    "E_RMSE_lasso_wo_test = math.sqrt(np.mean(MSE_10fold_lasso_wo_test))\n",
    "R2_lasso_wo = mean(rss)/mean(tss)\n",
    "E_R2_lasso_wo_test = mean(rss)/mean(tss_test)\n",
    "print(\"Estimated RMSE via 10-fold CV =\",RMSE_lasso_wo)\n",
    "print(\"Estimated R^2 via 10-fold CV =\",R2_lasso_wo)\n",
    "print(\"Estimated E(RMSEtest) via 10-fold CV =\",E_RMSE_lasso_wo_test)\n",
    "print(\"Estimated E(R^2 test) via 10-fold CV =\",E_R2_lasso_wo_test)"
   ]
  },
  {
   "cell_type": "code",
   "execution_count": 252,
   "metadata": {
    "pycharm": {
     "name": "#%%\n"
    }
   },
   "outputs": [
    {
     "data": {
      "text/html": [
       "<div>\n",
       "<style scoped>\n",
       "    .dataframe tbody tr th:only-of-type {\n",
       "        vertical-align: middle;\n",
       "    }\n",
       "\n",
       "    .dataframe tbody tr th {\n",
       "        vertical-align: top;\n",
       "    }\n",
       "\n",
       "    .dataframe thead th {\n",
       "        text-align: right;\n",
       "    }\n",
       "</style>\n",
       "<table border=\"1\" class=\"dataframe\">\n",
       "  <thead>\n",
       "    <tr style=\"text-align: right;\">\n",
       "      <th></th>\n",
       "      <th>Coefficients</th>\n",
       "      <th>b0</th>\n",
       "      <th>b1</th>\n",
       "      <th>b2</th>\n",
       "      <th>b3</th>\n",
       "      <th>b4</th>\n",
       "      <th>b5</th>\n",
       "    </tr>\n",
       "  </thead>\n",
       "  <tbody>\n",
       "    <tr>\n",
       "      <th>0</th>\n",
       "      <td>Null</td>\n",
       "      <td>0.24769504</td>\n",
       "      <td>NA</td>\n",
       "      <td>NA</td>\n",
       "      <td>NA</td>\n",
       "      <td>NA</td>\n",
       "      <td>NA</td>\n",
       "    </tr>\n",
       "    <tr>\n",
       "      <th>1</th>\n",
       "      <td>Full</td>\n",
       "      <td>-0.07712214</td>\n",
       "      <td>1.0834538</td>\n",
       "      <td>1.8923526</td>\n",
       "      <td>2.7999191</td>\n",
       "      <td>-0.41411597</td>\n",
       "      <td>-0.024035463</td>\n",
       "    </tr>\n",
       "    <tr>\n",
       "      <th>2</th>\n",
       "      <td>LASSO (LassoCV)</td>\n",
       "      <td>0.0769532</td>\n",
       "      <td>0.0</td>\n",
       "      <td>0.9751248</td>\n",
       "      <td>1.9452907</td>\n",
       "      <td>-0.0</td>\n",
       "      <td>-0.0</td>\n",
       "    </tr>\n",
       "    <tr>\n",
       "      <th>3</th>\n",
       "      <td>LASSO (YourCV10 w/ rescaling)</td>\n",
       "      <td>-0.043951258</td>\n",
       "      <td>0.94682777</td>\n",
       "      <td>1.7853748</td>\n",
       "      <td>2.7038982</td>\n",
       "      <td>-0.27762178</td>\n",
       "      <td>-0.0</td>\n",
       "    </tr>\n",
       "    <tr>\n",
       "      <th>4</th>\n",
       "      <td>LASSO (YourCV10 w/o rescaling)</td>\n",
       "      <td>-0.0472358</td>\n",
       "      <td>0.9605377</td>\n",
       "      <td>1.8001353</td>\n",
       "      <td>2.7189517</td>\n",
       "      <td>-0.28917325</td>\n",
       "      <td>-0.0</td>\n",
       "    </tr>\n",
       "  </tbody>\n",
       "</table>\n",
       "</div>"
      ],
      "text/plain": [
       "                     Coefficients            b0          b1         b2  \\\n",
       "0                            Null    0.24769504          NA         NA   \n",
       "1                            Full   -0.07712214   1.0834538  1.8923526   \n",
       "2                 LASSO (LassoCV)     0.0769532         0.0  0.9751248   \n",
       "3   LASSO (YourCV10 w/ rescaling)  -0.043951258  0.94682777  1.7853748   \n",
       "4  LASSO (YourCV10 w/o rescaling)    -0.0472358   0.9605377  1.8001353   \n",
       "\n",
       "          b3           b4            b5  \n",
       "0         NA           NA            NA  \n",
       "1  2.7999191  -0.41411597  -0.024035463  \n",
       "2  1.9452907         -0.0          -0.0  \n",
       "3  2.7038982  -0.27762178          -0.0  \n",
       "4  2.7189517  -0.28917325          -0.0  "
      ]
     },
     "execution_count": 252,
     "metadata": {},
     "output_type": "execute_result"
    }
   ],
   "source": [
    "table1 = pd.DataFrame(\n",
    "    np.array([['Null', m, 'NA', 'NA', 'NA', 'NA', 'NA'],\n",
    "              ['Full', b0_full[0], bs_full[0][0], bs_full[0][1], bs_full[0][2], bs_full[0][3], bs_full[0][4]],\n",
    "              ['LASSO (LassoCV)', b0_lasso[0], bs_lasso[0], bs_lasso[1], bs_lasso[2], bs_lasso[3], bs_lasso[4]],\n",
    "              ['LASSO (YourCV10 w/ rescaling)', b0_yourlasso, bs_yourlasso[0], bs_yourlasso[1], bs_yourlasso[2], bs_yourlasso[3], bs_yourlasso[4]],\n",
    "              ['LASSO (YourCV10 w/o rescaling)', b0_wo, bs_wo[0], bs_wo[1], bs_wo[2], bs_wo[3], bs_wo[4]]]),\n",
    "    columns=['Coefficients','b0','b1','b2','b3','b4','b5'])\n",
    "table1"
   ]
  },
  {
   "cell_type": "code",
   "execution_count": 253,
   "metadata": {
    "pycharm": {
     "name": "#%%\n"
    }
   },
   "outputs": [
    {
     "data": {
      "text/html": [
       "<div>\n",
       "<style scoped>\n",
       "    .dataframe tbody tr th:only-of-type {\n",
       "        vertical-align: middle;\n",
       "    }\n",
       "\n",
       "    .dataframe tbody tr th {\n",
       "        vertical-align: top;\n",
       "    }\n",
       "\n",
       "    .dataframe thead th {\n",
       "        text-align: right;\n",
       "    }\n",
       "</style>\n",
       "<table border=\"1\" class=\"dataframe\">\n",
       "  <thead>\n",
       "    <tr style=\"text-align: right;\">\n",
       "      <th></th>\n",
       "      <th>Goodness of fit and prediction</th>\n",
       "      <th>lambda</th>\n",
       "      <th>|b|</th>\n",
       "      <th>RMSE fit</th>\n",
       "      <th>R2 fit</th>\n",
       "      <th>E(RMSE test)</th>\n",
       "      <th>E(R2 test)</th>\n",
       "    </tr>\n",
       "  </thead>\n",
       "  <tbody>\n",
       "    <tr>\n",
       "      <th>0</th>\n",
       "      <td>Null</td>\n",
       "      <td>NA</td>\n",
       "      <td>NA</td>\n",
       "      <td>4.7176467919569935</td>\n",
       "      <td>0.0</td>\n",
       "      <td>4.7176467919569935</td>\n",
       "      <td>0.0</td>\n",
       "    </tr>\n",
       "    <tr>\n",
       "      <th>1</th>\n",
       "      <td>Full</td>\n",
       "      <td>NA</td>\n",
       "      <td>6.213876912370324</td>\n",
       "      <td>6.029924474341263</td>\n",
       "      <td>0.63473547</td>\n",
       "      <td>6.048960244864014</td>\n",
       "      <td>0.6347354</td>\n",
       "    </tr>\n",
       "    <tr>\n",
       "      <th>2</th>\n",
       "      <td>LASSO (LassoCV10)</td>\n",
       "      <td>1.0</td>\n",
       "      <td>2.920415461063385</td>\n",
       "      <td>5.255187242186472</td>\n",
       "      <td>0.24147923</td>\n",
       "      <td>5.268112364860296</td>\n",
       "      <td>0.2414792</td>\n",
       "    </tr>\n",
       "    <tr>\n",
       "      <th>3</th>\n",
       "      <td>LASSO (YourCV10 w/ rescaling)</td>\n",
       "      <td>0.008</td>\n",
       "      <td>5.713722497224808</td>\n",
       "      <td>5.914790361934628</td>\n",
       "      <td>0.572884</td>\n",
       "      <td>5.933071693623774</td>\n",
       "      <td>0.57288396</td>\n",
       "    </tr>\n",
       "    <tr>\n",
       "      <th>4</th>\n",
       "      <td>LASSO (YourCV10 w/o rescaling)</td>\n",
       "      <td>0.1</td>\n",
       "      <td>5.768797874450684</td>\n",
       "      <td>5.9300496791154576</td>\n",
       "      <td>0.5810127</td>\n",
       "      <td>5.948427765149146</td>\n",
       "      <td>0.58101267</td>\n",
       "    </tr>\n",
       "  </tbody>\n",
       "</table>\n",
       "</div>"
      ],
      "text/plain": [
       "   Goodness of fit and prediction lambda                |b|  \\\n",
       "0                            Null     NA                 NA   \n",
       "1                            Full     NA  6.213876912370324   \n",
       "2               LASSO (LassoCV10)    1.0  2.920415461063385   \n",
       "3   LASSO (YourCV10 w/ rescaling)  0.008  5.713722497224808   \n",
       "4  LASSO (YourCV10 w/o rescaling)    0.1  5.768797874450684   \n",
       "\n",
       "             RMSE fit      R2 fit        E(RMSE test)  E(R2 test)  \n",
       "0  4.7176467919569935         0.0  4.7176467919569935         0.0  \n",
       "1   6.029924474341263  0.63473547   6.048960244864014   0.6347354  \n",
       "2   5.255187242186472  0.24147923   5.268112364860296   0.2414792  \n",
       "3   5.914790361934628    0.572884   5.933071693623774  0.57288396  \n",
       "4  5.9300496791154576   0.5810127   5.948427765149146  0.58101267  "
      ]
     },
     "execution_count": 253,
     "metadata": {},
     "output_type": "execute_result"
    }
   ],
   "source": [
    "table2 = pd.DataFrame(\n",
    "    np.array([['Null', 'NA', 'NA', RMSE_null, R2_null, E_RMSE_null_test, E_R2_null_test],\n",
    "              ['Full', 'NA', bh_full, RMSE_full, R2_full, E_RMSE_full_test, E_R2_full_test],\n",
    "              ['LASSO (LassoCV10)', 1.0, bh_lasso, RMSE_lasso, R2_lasso, E_RMSE_lasso_test, E_R2_lasso_test],\n",
    "              ['LASSO (YourCV10 w/ rescaling)', alpha_w, bh_w, RMSE_lasso_w, R2_lasso_w, E_RMSE_lasso_w_test, E_R2_lasso_w_test],\n",
    "              ['LASSO (YourCV10 w/o rescaling)', alpha_wo, bh_wo, RMSE_lasso_wo, R2_lasso_wo, E_RMSE_lasso_wo_test, E_R2_lasso_wo_test]]\n",
    "             ),\n",
    "    columns=['Goodness of fit and prediction', 'lambda', '|b|', 'RMSE fit', 'R2 fit', 'E(RMSE test)', 'E(R2 test)'])\n",
    "table2"
   ]
  },
  {
   "cell_type": "code",
   "execution_count": 254,
   "outputs": [],
   "source": [
    "# test\n",
    "a = np.ones((3, 1))\n",
    "b = np.ones((3,))"
   ],
   "metadata": {
    "collapsed": false,
    "pycharm": {
     "name": "#%%\n"
    }
   }
  },
  {
   "cell_type": "code",
   "execution_count": 255,
   "outputs": [
    {
     "data": {
      "text/plain": "((3, 1), (3,))"
     },
     "execution_count": 255,
     "metadata": {},
     "output_type": "execute_result"
    }
   ],
   "source": [
    "a.shape, b.shape"
   ],
   "metadata": {
    "collapsed": false,
    "pycharm": {
     "name": "#%%\n"
    }
   }
  },
  {
   "cell_type": "code",
   "execution_count": 261,
   "outputs": [
    {
     "data": {
      "text/plain": "(3,)"
     },
     "execution_count": 261,
     "metadata": {},
     "output_type": "execute_result"
    }
   ],
   "source": [
    "a.reshape((-1,)).shape"
   ],
   "metadata": {
    "collapsed": false,
    "pycharm": {
     "name": "#%%\n"
    }
   }
  },
  {
   "cell_type": "code",
   "execution_count": 288,
   "outputs": [],
   "source": [
    "a = np.array([[1,2],[3,4]])\n",
    "b = np.array([[3,4],[5,6]])\n",
    "c = np.array([2,4]).reshape(1,2)\n",
    "#a.dot(b)"
   ],
   "metadata": {
    "collapsed": false,
    "pycharm": {
     "name": "#%%\n"
    }
   }
  },
  {
   "cell_type": "code",
   "execution_count": 283,
   "outputs": [
    {
     "data": {
      "text/plain": "array([[1, 2],\n       [3, 4]])"
     },
     "execution_count": 283,
     "metadata": {},
     "output_type": "execute_result"
    }
   ],
   "source": [
    "a"
   ],
   "metadata": {
    "collapsed": false,
    "pycharm": {
     "name": "#%%\n"
    }
   }
  },
  {
   "cell_type": "code",
   "execution_count": 277,
   "outputs": [
    {
     "data": {
      "text/plain": "(2,)"
     },
     "execution_count": 277,
     "metadata": {},
     "output_type": "execute_result"
    }
   ],
   "source": [
    "a.shape"
   ],
   "metadata": {
    "collapsed": false,
    "pycharm": {
     "name": "#%%\n"
    }
   }
  },
  {
   "cell_type": "code",
   "execution_count": 291,
   "outputs": [
    {
     "data": {
      "text/plain": "array([[10],\n       [22]])"
     },
     "execution_count": 291,
     "metadata": {},
     "output_type": "execute_result"
    }
   ],
   "source": [
    "a.dot(c.T)"
   ],
   "metadata": {
    "collapsed": false,
    "pycharm": {
     "name": "#%%\n"
    }
   }
  },
  {
   "cell_type": "code",
   "execution_count": 293,
   "outputs": [
    {
     "data": {
      "text/plain": "array([[10],\n       [22]])"
     },
     "execution_count": 293,
     "metadata": {},
     "output_type": "execute_result"
    }
   ],
   "source": [
    "np.matmul(a,c.T)"
   ],
   "metadata": {
    "collapsed": false,
    "pycharm": {
     "name": "#%%\n"
    }
   }
  },
  {
   "cell_type": "code",
   "execution_count": null,
   "outputs": [],
   "source": [],
   "metadata": {
    "collapsed": false,
    "pycharm": {
     "name": "#%%\n"
    }
   }
  }
 ],
 "metadata": {
  "kernelspec": {
   "display_name": "Python 3",
   "language": "python",
   "name": "python3"
  },
  "language_info": {
   "codemirror_mode": {
    "name": "ipython",
    "version": 3
   },
   "file_extension": ".py",
   "mimetype": "text/x-python",
   "name": "python",
   "nbconvert_exporter": "python",
   "pygments_lexer": "ipython3",
   "version": "3.8.8"
  }
 },
 "nbformat": 4,
 "nbformat_minor": 1
}